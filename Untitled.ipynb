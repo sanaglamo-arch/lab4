{
 "cells": [
  {
   "cell_type": "code",
   "execution_count": 8,
   "id": "f79edd64-9bd5-4057-9de9-7d13c7920b4e",
   "metadata": {},
   "outputs": [],
   "source": [
    "%matplotlib inline\n",
    "import matplotlib.pyplot as plt\n",
    "import numpy as np\n",
    "import pandas as pd\n",
    "\n",
    "plt.style.use('seaborn-v0_8')\n"
   ]
  },
  {
   "cell_type": "code",
   "execution_count": null,
   "id": "29466336-4fee-4e6a-91a7-d2881730f311",
   "metadata": {},
   "outputs": [
    {
     "name": "stdout",
     "output_type": "stream",
     "text": [
      "C:\\Users\\sanag\\PycharmProjects\\lab4\n"
     ]
    }
   ],
   "source": [
    "import os\n",
    "os.chdir(r\"C:\\Users\\sanag\\PycharmProjects\\lab4\")\n",
    "print(os.getcwd())\n",
    "\n",
    "import importlib\n",
    "import interpolation, visualize, regression\n",
    "importlib.reload(interpolation)\n",
    "importlib.reload(visualize)\n",
    "importlib.reload(regression)\n",
    "\n",
    "from interpolation import build_function_data, create_interpolators, is_in_range\n",
    "from visualize import plot_interpolation, plot_comparison\n",
    "from regression import run_regression\n",
    "from main import main\n",
    "\n",
    "main()\n"
   ]
  },
  {
   "cell_type": "code",
   "execution_count": null,
   "id": "61c45064-f3fc-4499-a0d9-038c3be26a87",
   "metadata": {},
   "outputs": [],
   "source": []
  }
 ],
 "metadata": {
  "kernelspec": {
   "display_name": "Python 3 (ipykernel)",
   "language": "python",
   "name": "python3"
  },
  "language_info": {
   "codemirror_mode": {
    "name": "ipython",
    "version": 3
   },
   "file_extension": ".py",
   "mimetype": "text/x-python",
   "name": "python",
   "nbconvert_exporter": "python",
   "pygments_lexer": "ipython3",
   "version": "3.13.5"
  }
 },
 "nbformat": 4,
 "nbformat_minor": 5
}
